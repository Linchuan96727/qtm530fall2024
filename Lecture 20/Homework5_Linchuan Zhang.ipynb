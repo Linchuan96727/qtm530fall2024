{
 "cells": [
  {
   "cell_type": "markdown",
   "metadata": {},
   "source": [
    "# <span style=\"color:darkblue\"> QTM 530 Homework 5 </span>\n",
    "\n",
    "Linchuan Zhang\n",
    "\n",
    "11/11/2024"
   ]
  },
  {
   "cell_type": "markdown",
   "metadata": {},
   "source": [
    "**Import packages and data**"
   ]
  },
  {
   "cell_type": "code",
   "execution_count": 143,
   "metadata": {},
   "outputs": [],
   "source": [
    "# Import packages for machine learning functions\n",
    "from sklearn.model_selection import train_test_split, cross_validate, GridSearchCV\n",
    "from sklearn.preprocessing import StandardScaler\n",
    "from sklearn.svm import SVC\n",
    "from sklearn.ensemble import RandomForestClassifier\n",
    "from sklearn.neural_network import MLPClassifier\n",
    "from sklearn.linear_model import RidgeClassifier\n",
    "\n",
    "# Import other packages\n",
    "import numpy as np\n",
    "import matplotlib.pyplot as plt\n",
    "import pandas as pd"
   ]
  },
  {
   "cell_type": "code",
   "execution_count": 144,
   "metadata": {},
   "outputs": [],
   "source": [
    "# Import data\n",
    "from ucimlrepo import fetch_ucirepo \n",
    "  \n",
    "iris = fetch_ucirepo(id=53) \n",
    "X = iris.data.features \n",
    "y = iris.data.targets \n",
    "\n",
    "# For the purpose of data description, combine X and y into one dataset.\n",
    "data = pd.DataFrame(X)\n",
    "data['Target'] = y"
   ]
  },
  {
   "cell_type": "code",
   "execution_count": 145,
   "metadata": {},
   "outputs": [],
   "source": [
    "# Import a package for ignore warnings\n",
    "import warnings\n",
    "warnings.filterwarnings('ignore')"
   ]
  },
  {
   "cell_type": "markdown",
   "metadata": {},
   "source": [
    "**Part 1: Description of the dataset**"
   ]
  },
  {
   "cell_type": "markdown",
   "metadata": {},
   "source": [
    "1.1 Basic Features:"
   ]
  },
  {
   "cell_type": "code",
   "execution_count": 146,
   "metadata": {},
   "outputs": [
    {
     "data": {
      "text/plain": [
       "150"
      ]
     },
     "execution_count": 146,
     "metadata": {},
     "output_type": "execute_result"
    }
   ],
   "source": [
    "# Number of rows\n",
    "len(data)"
   ]
  },
  {
   "cell_type": "code",
   "execution_count": 147,
   "metadata": {},
   "outputs": [
    {
     "data": {
      "text/plain": [
       "sepal length    float64\n",
       "sepal width     float64\n",
       "petal length    float64\n",
       "petal width     float64\n",
       "Target           object\n",
       "dtype: object"
      ]
     },
     "execution_count": 147,
     "metadata": {},
     "output_type": "execute_result"
    }
   ],
   "source": [
    "# Columns, and type of each variable\n",
    "data.dtypes"
   ]
  },
  {
   "cell_type": "code",
   "execution_count": 148,
   "metadata": {},
   "outputs": [
    {
     "data": {
      "text/html": [
       "<div>\n",
       "<style scoped>\n",
       "    .dataframe tbody tr th:only-of-type {\n",
       "        vertical-align: middle;\n",
       "    }\n",
       "\n",
       "    .dataframe tbody tr th {\n",
       "        vertical-align: top;\n",
       "    }\n",
       "\n",
       "    .dataframe thead th {\n",
       "        text-align: right;\n",
       "    }\n",
       "</style>\n",
       "<table border=\"1\" class=\"dataframe\">\n",
       "  <thead>\n",
       "    <tr style=\"text-align: right;\">\n",
       "      <th></th>\n",
       "      <th>sepal length</th>\n",
       "      <th>sepal width</th>\n",
       "      <th>petal length</th>\n",
       "      <th>petal width</th>\n",
       "      <th>Target</th>\n",
       "    </tr>\n",
       "  </thead>\n",
       "  <tbody>\n",
       "  </tbody>\n",
       "</table>\n",
       "</div>"
      ],
      "text/plain": [
       "Empty DataFrame\n",
       "Columns: [sepal length, sepal width, petal length, petal width, Target]\n",
       "Index: []"
      ]
     },
     "execution_count": 148,
     "metadata": {},
     "output_type": "execute_result"
    }
   ],
   "source": [
    "# Quality check: missing value\n",
    "rows_with_missing = data[data.isnull().any(axis=1)]\n",
    "rows_with_missing"
   ]
  },
  {
   "cell_type": "markdown",
   "metadata": {},
   "source": [
    "As shown above, the dataset has 150 rows and 5 columns. Four of these columns have numerical data (float64), while one column has categorical data (object). Additionally, there are no missing values in this dataset."
   ]
  },
  {
   "cell_type": "markdown",
   "metadata": {},
   "source": [
    "1.2 Summary Statistics:"
   ]
  },
  {
   "cell_type": "code",
   "execution_count": 149,
   "metadata": {},
   "outputs": [
    {
     "data": {
      "text/html": [
       "<div>\n",
       "<style scoped>\n",
       "    .dataframe tbody tr th:only-of-type {\n",
       "        vertical-align: middle;\n",
       "    }\n",
       "\n",
       "    .dataframe tbody tr th {\n",
       "        vertical-align: top;\n",
       "    }\n",
       "\n",
       "    .dataframe thead th {\n",
       "        text-align: right;\n",
       "    }\n",
       "</style>\n",
       "<table border=\"1\" class=\"dataframe\">\n",
       "  <thead>\n",
       "    <tr style=\"text-align: right;\">\n",
       "      <th></th>\n",
       "      <th>sepal length</th>\n",
       "      <th>sepal width</th>\n",
       "      <th>petal length</th>\n",
       "      <th>petal width</th>\n",
       "    </tr>\n",
       "  </thead>\n",
       "  <tbody>\n",
       "    <tr>\n",
       "      <th>min</th>\n",
       "      <td>4.30</td>\n",
       "      <td>2.00</td>\n",
       "      <td>1.00</td>\n",
       "      <td>0.1</td>\n",
       "    </tr>\n",
       "    <tr>\n",
       "      <th>mean</th>\n",
       "      <td>5.84</td>\n",
       "      <td>3.05</td>\n",
       "      <td>3.76</td>\n",
       "      <td>1.2</td>\n",
       "    </tr>\n",
       "    <tr>\n",
       "      <th>median</th>\n",
       "      <td>5.80</td>\n",
       "      <td>3.00</td>\n",
       "      <td>4.35</td>\n",
       "      <td>1.3</td>\n",
       "    </tr>\n",
       "    <tr>\n",
       "      <th>max</th>\n",
       "      <td>7.90</td>\n",
       "      <td>4.40</td>\n",
       "      <td>6.90</td>\n",
       "      <td>2.5</td>\n",
       "    </tr>\n",
       "    <tr>\n",
       "      <th>count</th>\n",
       "      <td>150.00</td>\n",
       "      <td>150.00</td>\n",
       "      <td>150.00</td>\n",
       "      <td>150.0</td>\n",
       "    </tr>\n",
       "  </tbody>\n",
       "</table>\n",
       "</div>"
      ],
      "text/plain": [
       "        sepal length  sepal width  petal length  petal width\n",
       "min             4.30         2.00          1.00          0.1\n",
       "mean            5.84         3.05          3.76          1.2\n",
       "median          5.80         3.00          4.35          1.3\n",
       "max             7.90         4.40          6.90          2.5\n",
       "count         150.00       150.00        150.00        150.0"
      ]
     },
     "execution_count": 149,
     "metadata": {},
     "output_type": "execute_result"
    }
   ],
   "source": [
    "summary_stats = data.agg({\n",
    "    'sepal length': ['min','mean','median','max','count'],\n",
    "    'sepal width': ['min','mean','median','max','count'],\n",
    "    'petal length':  ['min','mean','median','max','count'],\n",
    "    'petal width':  ['min','mean','median','max','count'],\n",
    "}).round(2)\n",
    "summary_stats"
   ]
  },
  {
   "cell_type": "code",
   "execution_count": 150,
   "metadata": {},
   "outputs": [
    {
     "data": {
      "text/html": [
       "<div>\n",
       "<style scoped>\n",
       "    .dataframe tbody tr th:only-of-type {\n",
       "        vertical-align: middle;\n",
       "    }\n",
       "\n",
       "    .dataframe tbody tr th {\n",
       "        vertical-align: top;\n",
       "    }\n",
       "\n",
       "    .dataframe thead tr th {\n",
       "        text-align: left;\n",
       "    }\n",
       "\n",
       "    .dataframe thead tr:last-of-type th {\n",
       "        text-align: right;\n",
       "    }\n",
       "</style>\n",
       "<table border=\"1\" class=\"dataframe\">\n",
       "  <thead>\n",
       "    <tr>\n",
       "      <th></th>\n",
       "      <th colspan=\"2\" halign=\"left\">sepal length</th>\n",
       "      <th colspan=\"2\" halign=\"left\">sepal width</th>\n",
       "      <th colspan=\"2\" halign=\"left\">petal length</th>\n",
       "      <th colspan=\"2\" halign=\"left\">petal width</th>\n",
       "    </tr>\n",
       "    <tr>\n",
       "      <th></th>\n",
       "      <th>mean</th>\n",
       "      <th>count</th>\n",
       "      <th>mean</th>\n",
       "      <th>count</th>\n",
       "      <th>mean</th>\n",
       "      <th>count</th>\n",
       "      <th>mean</th>\n",
       "      <th>count</th>\n",
       "    </tr>\n",
       "    <tr>\n",
       "      <th>Target</th>\n",
       "      <th></th>\n",
       "      <th></th>\n",
       "      <th></th>\n",
       "      <th></th>\n",
       "      <th></th>\n",
       "      <th></th>\n",
       "      <th></th>\n",
       "      <th></th>\n",
       "    </tr>\n",
       "  </thead>\n",
       "  <tbody>\n",
       "    <tr>\n",
       "      <th>Iris-setosa</th>\n",
       "      <td>5.01</td>\n",
       "      <td>50</td>\n",
       "      <td>3.42</td>\n",
       "      <td>50</td>\n",
       "      <td>1.46</td>\n",
       "      <td>50</td>\n",
       "      <td>0.24</td>\n",
       "      <td>50</td>\n",
       "    </tr>\n",
       "    <tr>\n",
       "      <th>Iris-versicolor</th>\n",
       "      <td>5.94</td>\n",
       "      <td>50</td>\n",
       "      <td>2.77</td>\n",
       "      <td>50</td>\n",
       "      <td>4.26</td>\n",
       "      <td>50</td>\n",
       "      <td>1.33</td>\n",
       "      <td>50</td>\n",
       "    </tr>\n",
       "    <tr>\n",
       "      <th>Iris-virginica</th>\n",
       "      <td>6.59</td>\n",
       "      <td>50</td>\n",
       "      <td>2.97</td>\n",
       "      <td>50</td>\n",
       "      <td>5.55</td>\n",
       "      <td>50</td>\n",
       "      <td>2.03</td>\n",
       "      <td>50</td>\n",
       "    </tr>\n",
       "  </tbody>\n",
       "</table>\n",
       "</div>"
      ],
      "text/plain": [
       "                sepal length       sepal width       petal length        \\\n",
       "                        mean count        mean count         mean count   \n",
       "Target                                                                    \n",
       "Iris-setosa             5.01    50        3.42    50         1.46    50   \n",
       "Iris-versicolor         5.94    50        2.77    50         4.26    50   \n",
       "Iris-virginica          6.59    50        2.97    50         5.55    50   \n",
       "\n",
       "                petal width        \n",
       "                       mean count  \n",
       "Target                             \n",
       "Iris-setosa            0.24    50  \n",
       "Iris-versicolor        1.33    50  \n",
       "Iris-virginica         2.03    50  "
      ]
     },
     "execution_count": 150,
     "metadata": {},
     "output_type": "execute_result"
    }
   ],
   "source": [
    "summary_stats_group = data.groupby('Target').agg({\n",
    "    'sepal length': ['mean', 'count'],\n",
    "    'sepal width': ['mean', 'count'],\n",
    "    'petal length':  ['mean', 'count'],\n",
    "    'petal width':  ['mean', 'count'],\n",
    "}).round(2)\n",
    "summary_stats_group "
   ]
  },
  {
   "cell_type": "markdown",
   "metadata": {},
   "source": [
    "The dataset has three target classes: Iris-setosa, Iris-versicolor, and Iris-virginica. Each class has 50 observations, which represents 33.33% of the total observations.\n",
    "\n",
    "Iris-setosa has the highest mean sepal width (3.42), and the smallest mean sepal length (5.01), petal length (1.46) and petal width (0.24).\n",
    "\n",
    "Iris-versicolor  has the smallest mean sepal width (2.77).\n",
    "\n",
    "Iris-virginica has the highest mean sepal length (6.59), petal length (5.55), and petal width (2.03).\n"
   ]
  },
  {
   "cell_type": "markdown",
   "metadata": {},
   "source": [
    "**Part 2: Comparison of Different Machine Learning Methods**"
   ]
  },
  {
   "cell_type": "code",
   "execution_count": null,
   "metadata": {},
   "outputs": [],
   "source": [
    "# Split into training and test data\n",
    "X_train, X_test, y_train, y_test = train_test_split(X,y, \n",
    "                                   random_state=8,  \n",
    "                                   test_size=0.2,  \n",
    "                                   shuffle=True) \n"
   ]
  },
  {
   "cell_type": "code",
   "execution_count": null,
   "metadata": {},
   "outputs": [],
   "source": [
    "# Fit the scaler on training data\n",
    "scaler = StandardScaler().fit(X_train)\n",
    "\n",
    "# Transform both training and test data using the same scaler\n",
    "X_train_scaled = scaler.transform(X_train)\n",
    "X_test_scaled = scaler.transform(X_test)\n",
    "\n",
    "# Define the scoring metrics\n",
    "scoring = ['accuracy', 'precision_macro', 'recall_macro']"
   ]
  },
  {
   "cell_type": "markdown",
   "metadata": {},
   "source": [
    "2.1 Machine Learning Method I: SVMs"
   ]
  },
  {
   "cell_type": "code",
   "execution_count": null,
   "metadata": {},
   "outputs": [
    {
     "data": {
      "text/plain": [
       "{'Accuracy': 0.975,\n",
       " 'Precision': 0.9755555555555556,\n",
       " 'Recall': 0.9738888888888889}"
      ]
     },
     "execution_count": 171,
     "metadata": {},
     "output_type": "execute_result"
    }
   ],
   "source": [
    "model_1 = SVC(random_state=8)\n",
    "\n",
    "# Perform cross-validation\n",
    "scores_1 = cross_validate(model_1, X_train_scaled, y_train, cv=10, scoring=scoring)\n",
    "\n",
    "# Calculate and print the mean results for each metric\n",
    "results_1 = {\n",
    "    'Accuracy': scores_1['test_accuracy'].mean(),\n",
    "    'Precision': scores_1['test_precision_macro'].mean(),\n",
    "    'Recall': scores_1['test_recall_macro'].mean()\n",
    "}\n",
    "results_1"
   ]
  },
  {
   "cell_type": "code",
   "execution_count": null,
   "metadata": {},
   "outputs": [
    {
     "data": {
      "text/plain": [
       "0.025000000000000022"
      ]
     },
     "execution_count": 176,
     "metadata": {},
     "output_type": "execute_result"
    }
   ],
   "source": [
    "# Compute cross-validated error as 1 - average accuracy. \n",
    "# I can also use precision and recall to compute cross-validated error. To save space, I will just show how to compute cross-validated error with the accuracy score.\n",
    "cross_validated_error_1 = 1- np.mean(scores_1['test_accuracy'])\n",
    "cross_validated_error_1"
   ]
  },
  {
   "cell_type": "markdown",
   "metadata": {},
   "source": [
    "2.2.1 Machine Learning Method II: Random Forests (using default tuning parameters)"
   ]
  },
  {
   "cell_type": "code",
   "execution_count": null,
   "metadata": {},
   "outputs": [
    {
     "data": {
      "text/plain": [
       "{'Accuracy': 0.975,\n",
       " 'Precision': 0.9755555555555556,\n",
       " 'Recall': 0.9738888888888889}"
      ]
     },
     "execution_count": 155,
     "metadata": {},
     "output_type": "execute_result"
    }
   ],
   "source": [
    "model_2_default= RandomForestClassifier(random_state=8)\n",
    "\n",
    "# Perform cross-validation\n",
    "scores_2_default = cross_validate(model_2_default, X_train_scaled, y_train, cv=10, scoring=scoring)\n",
    "\n",
    "# Calculate and print the mean results for each metric\n",
    "results_2_default = {\n",
    "    'Accuracy': scores_1['test_accuracy'].mean(),\n",
    "    'Precision': scores_1['test_precision_macro'].mean(),\n",
    "    'Recall': scores_1['test_recall_macro'].mean()\n",
    "}\n",
    "results_2_default"
   ]
  },
  {
   "cell_type": "code",
   "execution_count": 156,
   "metadata": {},
   "outputs": [
    {
     "data": {
      "text/plain": [
       "0.025000000000000133"
      ]
     },
     "execution_count": 156,
     "metadata": {},
     "output_type": "execute_result"
    }
   ],
   "source": [
    "# Compute cross-validated error as 1 - average accuracy\n",
    "cross_validated_error_2_default = 1 - np.mean(scores_2_default['test_accuracy'])\n",
    "cross_validated_error_2_default"
   ]
  },
  {
   "cell_type": "markdown",
   "metadata": {},
   "source": [
    "2.2.2 Machine Learning Method II: Random Forests (not using default tuning parameters)"
   ]
  },
  {
   "cell_type": "code",
   "execution_count": 157,
   "metadata": {},
   "outputs": [],
   "source": [
    "# Hyperparameter tuning for RandomForest using GridSearchCV\n",
    "param_grid = {\n",
    "    'n_estimators': [10, 20, 30, 40, 50],\n",
    "    'max_depth': [None, 10, 20, 30],\n",
    "    'min_samples_split': [2, 5, 7, 10]\n",
    "}\n",
    "grid_search = GridSearchCV(RandomForestClassifier(random_state=8), param_grid, cv=10, scoring='accuracy')\n",
    "grid_search.fit(X_train_scaled, y_train)\n",
    "best_rf = grid_search.best_estimator_"
   ]
  },
  {
   "cell_type": "code",
   "execution_count": 158,
   "metadata": {},
   "outputs": [
    {
     "name": "stdout",
     "output_type": "stream",
     "text": [
      "{'max_depth': None, 'min_samples_split': 2, 'n_estimators': 10}\n"
     ]
    }
   ],
   "source": [
    "# Print the best parameters and the best cross-validation score\n",
    "print(grid_search.best_params_)"
   ]
  },
  {
   "cell_type": "code",
   "execution_count": null,
   "metadata": {},
   "outputs": [
    {
     "data": {
      "text/plain": [
       "{'Accuracy': 0.9749999999999999,\n",
       " 'Precision': 0.9811111111111112,\n",
       " 'Recall': 0.9722222222222221}"
      ]
     },
     "execution_count": 159,
     "metadata": {},
     "output_type": "execute_result"
    }
   ],
   "source": [
    "model_2 = best_rf\n",
    "scores_2 = cross_validate(model_2,X_train_scaled, y_train, cv=10, scoring=scoring)\n",
    "\n",
    "# Calculate and print the mean results for each metric\n",
    "results_2 = {\n",
    "    'Accuracy': scores_2['test_accuracy'].mean(),\n",
    "    'Precision': scores_2['test_precision_macro'].mean(),\n",
    "    'Recall': scores_2['test_recall_macro'].mean()\n",
    "}\n",
    "results_2"
   ]
  },
  {
   "cell_type": "code",
   "execution_count": 160,
   "metadata": {},
   "outputs": [
    {
     "data": {
      "text/plain": [
       "0.025000000000000133"
      ]
     },
     "execution_count": 160,
     "metadata": {},
     "output_type": "execute_result"
    }
   ],
   "source": [
    "# Compute cross-validated error as 1 - average accuracy\n",
    "cross_validated_error_2 = 1 - np.mean(scores_2['test_accuracy'])\n",
    "cross_validated_error_2"
   ]
  },
  {
   "cell_type": "markdown",
   "metadata": {},
   "source": [
    "2.3 Machine Learning Method III: Neural Networks"
   ]
  },
  {
   "cell_type": "code",
   "execution_count": null,
   "metadata": {},
   "outputs": [
    {
     "data": {
      "text/plain": [
       "{'Accuracy': 0.95,\n",
       " 'Precision': 0.9550000000000001,\n",
       " 'Recall': 0.9505555555555556}"
      ]
     },
     "execution_count": 161,
     "metadata": {},
     "output_type": "execute_result"
    }
   ],
   "source": [
    "model_3 = MLPClassifier(random_state=8)\n",
    "\n",
    "# Perform cross-validation\n",
    "scores_3 = cross_validate(model_3, X_train_scaled, y_train, cv=10, scoring=scoring)\n",
    "\n",
    "# Calculate and print the mean results for each metric\n",
    "results_3 = {\n",
    "    'Accuracy': scores_3['test_accuracy'].mean(),\n",
    "    'Precision': scores_3['test_precision_macro'].mean(),\n",
    "    'Recall': scores_3['test_recall_macro'].mean()\n",
    "}\n",
    "results_3"
   ]
  },
  {
   "cell_type": "code",
   "execution_count": 162,
   "metadata": {},
   "outputs": [
    {
     "data": {
      "text/plain": [
       "0.050000000000000044"
      ]
     },
     "execution_count": 162,
     "metadata": {},
     "output_type": "execute_result"
    }
   ],
   "source": [
    "# Compute cross-validated error as 1 - average accuracy\n",
    "cross_validated_error_3 = 1 - np.mean(scores_3['test_accuracy'])\n",
    "cross_validated_error_3"
   ]
  },
  {
   "cell_type": "markdown",
   "metadata": {},
   "source": [
    "2.4 Machine Learning Method IV: Ridge (my own choice)"
   ]
  },
  {
   "cell_type": "code",
   "execution_count": null,
   "metadata": {},
   "outputs": [
    {
     "data": {
      "text/plain": [
       "{'Accuracy': 0.875,\n",
       " 'Precision': 0.8905555555555555,\n",
       " 'Recall': 0.8772222222222222}"
      ]
     },
     "execution_count": 163,
     "metadata": {},
     "output_type": "execute_result"
    }
   ],
   "source": [
    "model_4 = RidgeClassifier(random_state=8)\n",
    "\n",
    "# Perform cross-validation\n",
    "scores_4 = cross_validate(model_4, X_train_scaled, y_train, cv=10, scoring=scoring)\n",
    "\n",
    "# Calculate and print the mean results for each metric\n",
    "results_4 = {\n",
    "    'Accuracy': scores_4['test_accuracy'].mean(),\n",
    "    'Precision': scores_4['test_precision_macro'].mean(),\n",
    "    'Recall': scores_4['test_recall_macro'].mean()\n",
    "}\n",
    "results_4"
   ]
  },
  {
   "cell_type": "code",
   "execution_count": 164,
   "metadata": {},
   "outputs": [
    {
     "data": {
      "text/plain": [
       "0.125"
      ]
     },
     "execution_count": 164,
     "metadata": {},
     "output_type": "execute_result"
    }
   ],
   "source": [
    "# Compute cross-validated error as 1 - average accuracy\n",
    "cross_validated_error_4 = 1 - np.mean(scores_4['test_accuracy'])\n",
    "cross_validated_error_4"
   ]
  },
  {
   "cell_type": "markdown",
   "metadata": {},
   "source": [
    "2.5 Comparisons"
   ]
  },
  {
   "cell_type": "code",
   "execution_count": null,
   "metadata": {},
   "outputs": [
    {
     "data": {
      "text/html": [
       "<div>\n",
       "<style scoped>\n",
       "    .dataframe tbody tr th:only-of-type {\n",
       "        vertical-align: middle;\n",
       "    }\n",
       "\n",
       "    .dataframe tbody tr th {\n",
       "        vertical-align: top;\n",
       "    }\n",
       "\n",
       "    .dataframe thead th {\n",
       "        text-align: right;\n",
       "    }\n",
       "</style>\n",
       "<table border=\"1\" class=\"dataframe\">\n",
       "  <thead>\n",
       "    <tr style=\"text-align: right;\">\n",
       "      <th></th>\n",
       "      <th>SVMs</th>\n",
       "      <th>Random Forests (Default)</th>\n",
       "      <th>Random Forests (Optimum Tuning)</th>\n",
       "      <th>Neural Networks</th>\n",
       "      <th>Ridge</th>\n",
       "    </tr>\n",
       "  </thead>\n",
       "  <tbody>\n",
       "    <tr>\n",
       "      <th>Accuracy</th>\n",
       "      <td>0.975000</td>\n",
       "      <td>0.975000</td>\n",
       "      <td>0.975000</td>\n",
       "      <td>0.950000</td>\n",
       "      <td>0.875000</td>\n",
       "    </tr>\n",
       "    <tr>\n",
       "      <th>Precision</th>\n",
       "      <td>0.975556</td>\n",
       "      <td>0.975556</td>\n",
       "      <td>0.981111</td>\n",
       "      <td>0.955000</td>\n",
       "      <td>0.890556</td>\n",
       "    </tr>\n",
       "    <tr>\n",
       "      <th>Recall</th>\n",
       "      <td>0.973889</td>\n",
       "      <td>0.973889</td>\n",
       "      <td>0.972222</td>\n",
       "      <td>0.950556</td>\n",
       "      <td>0.877222</td>\n",
       "    </tr>\n",
       "    <tr>\n",
       "      <th>Cross-Validated Error</th>\n",
       "      <td>0.025000</td>\n",
       "      <td>0.025000</td>\n",
       "      <td>0.025000</td>\n",
       "      <td>0.050000</td>\n",
       "      <td>0.125000</td>\n",
       "    </tr>\n",
       "  </tbody>\n",
       "</table>\n",
       "</div>"
      ],
      "text/plain": [
       "                           SVMs  Random Forests (Default)  \\\n",
       "Accuracy               0.975000                  0.975000   \n",
       "Precision              0.975556                  0.975556   \n",
       "Recall                 0.973889                  0.973889   \n",
       "Cross-Validated Error  0.025000                  0.025000   \n",
       "\n",
       "                       Random Forests (Optimum Tuning)  Neural Networks  \\\n",
       "Accuracy                                      0.975000         0.950000   \n",
       "Precision                                     0.981111         0.955000   \n",
       "Recall                                        0.972222         0.950556   \n",
       "Cross-Validated Error                         0.025000         0.050000   \n",
       "\n",
       "                          Ridge  \n",
       "Accuracy               0.875000  \n",
       "Precision              0.890556  \n",
       "Recall                 0.877222  \n",
       "Cross-Validated Error  0.125000  "
      ]
     },
     "execution_count": 166,
     "metadata": {},
     "output_type": "execute_result"
    }
   ],
   "source": [
    "# Create a table to display results across four methods\n",
    "results_df = pd.DataFrame({\n",
    "    'SVMs': results_1,\n",
    "    'Random Forests (Default)': results_2_default,\n",
    "    'Random Forests (Optimum Tuning)': results_2,\n",
    "    'Neural Networks': results_3,\n",
    "    'Ridge': results_4\n",
    "})\n",
    "\n",
    "# Add another row for displaying Cross-Validated Error\n",
    "results_df_add = results_df.copy()\n",
    "results_df_add.loc['Cross-Validated Error'] = [cross_validated_error_1, cross_validated_error_2_default, cross_validated_error_2, cross_validated_error_3, cross_validated_error_4]\n",
    "\n",
    "results_df_add"
   ]
  },
  {
   "cell_type": "markdown",
   "metadata": {},
   "source": [
    "The table above provides a comparison across five machine learning methods, including SVMs, Random Forests (with default and optimum tuning), Neural Networks, and Ridge (my own choice).\n",
    "\n",
    "The Random Forests (Optimum Tuning) has the highest performance across metrics, while Ridge has the worst with the lowest accuracy, precision, recall, and highest cross-validated error.\n",
    "\n",
    "The figure below visualizes the comparison."
   ]
  },
  {
   "cell_type": "code",
   "execution_count": 167,
   "metadata": {},
   "outputs": [
    {
     "data": {
      "image/png": "[encoded data removed]",
      "text/plain": [
       "<Figure size 1200x600 with 1 Axes>"
      ]
     },
     "metadata": {},
     "output_type": "display_data"
    }
   ],
   "source": [
    "# Create a figure to display results across four methods\n",
    "results_df.T.plot(kind=\"bar\", figsize=(12, 6), width=0.75)\n",
    "\n",
    "plt.title(\"Cross-Validation Results Comparison Across Models\", fontsize=16)\n",
    "plt.xlabel(\"Models\", fontsize=14)\n",
    "plt.ylabel(\"Scores\", fontsize=14)\n",
    "plt.legend(title=\"Metrics\", fontsize=12, bbox_to_anchor=(1.05, 1), loc='upper left')\n",
    "plt.ylim(0.8, 1.0)\n",
    "plt.xticks(rotation=45)\n",
    "\n",
    "plt.tight_layout()\n",
    "plt.show()"
   ]
  },
  {
   "cell_type": "markdown",
   "metadata": {},
   "source": [
    "**Part 3: Summary and Recommendation**"
   ]
  },
  {
   "cell_type": "markdown",
   "metadata": {},
   "source": [
    "Based on the comparison above, **Random Forests with my own optimum tuning** is the best method for predicting the data. It has the highest accuracy, precision, and recall, with low cross-validated error.\n",
    "\n",
    "SVMs and Random Forests with default settings also show strong performance, although slightly lower than Random Forests with optimum tuning. Neural Networks and Ridge Regression are not recommended due to their relatively lower performance."
   ]
  }
 ],
 "metadata": {
  "kernelspec": {
   "display_name": "base",
   "language": "python",
   "name": "python3"
  },
  "language_info": {
   "codemirror_mode": {
    "name": "ipython",
    "version": 3
   },
   "file_extension": ".py",
   "mimetype": "text/x-python",
   "name": "python",
   "nbconvert_exporter": "python",
   "pygments_lexer": "ipython3",
   "version": "3.12.3"
  }
 },
 "nbformat": 4,
 "nbformat_minor": 2
}
